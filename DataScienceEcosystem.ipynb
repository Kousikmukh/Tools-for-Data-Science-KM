{
 "cells": [
  {
   "cell_type": "markdown",
   "id": "dc1b74c9",
   "metadata": {},
   "source": [
    "# Data Science Tools and Ecosystem"
   ]
  },
  {
   "cell_type": "markdown",
   "id": "c6309e9b",
   "metadata": {},
   "source": [
    "## In this notebook, Data Science Tools and Ecosystem are summarized.\n",
    "\n",
    "<b>Objectives:</b>\n",
    "List popular languages for Data Science\n",
    "- Python\n",
    "- R\n",
    "- SQL\n",
    "- Java\n",
    "- Julia\n"
   ]
  },
  {
   "cell_type": "markdown",
   "id": "e485bdde",
   "metadata": {},
   "source": [
    "### Some of the popular languages that Data Scientists use are:\n",
    "1. Python\n",
    "2. R\n",
    "3. SQL"
   ]
  },
  {
   "cell_type": "markdown",
   "id": "a25e5576",
   "metadata": {},
   "source": [
    "### Some of the commonly used libraries used by Data Scientists include:\n",
    "1. NumPy\n",
    "2. Pandas\n",
    "3. Matplotlib\n",
    "4. SciKit-Learn"
   ]
  },
  {
   "cell_type": "markdown",
   "id": "4142993f",
   "metadata": {},
   "source": [
    "### Table for Data Science Tools\n",
    "<table>\n",
    "    <tr>\n",
    "        <th>\n",
    "            Data Science Tools\n",
    "        </th>\n",
    "     </tr>\n",
    "     <tr>\n",
    "        <th>\n",
    "           RStudio \n",
    "        </th>\n",
    "     </tr>\n",
    "     <tr>\n",
    "        <th>\n",
    "            Apache Spark\n",
    "        </th>\n",
    "     </tr>\n",
    "     <tr>\n",
    "        <th>\n",
    "            TensorFlow\n",
    "        </th>\n",
    "     </tr>    \n",
    "</table>"
   ]
  },
  {
   "cell_type": "markdown",
   "id": "6838dd19",
   "metadata": {},
   "source": [
    "#### Below are a few examples of evaluating arithmetic expressions in Python"
   ]
  },
  {
   "cell_type": "code",
   "execution_count": 2,
   "id": "d7281a44",
   "metadata": {},
   "outputs": [
    {
     "data": {
      "text/plain": [
       "17"
      ]
     },
     "execution_count": 2,
     "metadata": {},
     "output_type": "execute_result"
    }
   ],
   "source": [
    "#### This a simple arithmetic expression to mutiply then add integers\n",
    "eval (\"3 * 4 + 5\")"
   ]
  },
  {
   "cell_type": "code",
   "execution_count": 3,
   "id": "2b33ebc4",
   "metadata": {},
   "outputs": [
    {
     "data": {
      "text/plain": [
       "3.3333333333333335"
      ]
     },
     "execution_count": 3,
     "metadata": {},
     "output_type": "execute_result"
    }
   ],
   "source": [
    "#### This will convert 200 minutes to hours by diving by 60\n",
    "eval (\"200 / 60\")"
   ]
  },
  {
   "cell_type": "markdown",
   "id": "8e659735",
   "metadata": {},
   "source": [
    "## Author\n",
    "Kousik Mukherjee"
   ]
  },
  {
   "cell_type": "code",
   "execution_count": null,
   "id": "109af2cd",
   "metadata": {},
   "outputs": [],
   "source": []
  }
 ],
 "metadata": {
  "kernelspec": {
   "display_name": "Python 3 (ipykernel)",
   "language": "python",
   "name": "python3"
  },
  "language_info": {
   "codemirror_mode": {
    "name": "ipython",
    "version": 3
   },
   "file_extension": ".py",
   "mimetype": "text/x-python",
   "name": "python",
   "nbconvert_exporter": "python",
   "pygments_lexer": "ipython3",
   "version": "3.10.9"
  }
 },
 "nbformat": 4,
 "nbformat_minor": 5
}
